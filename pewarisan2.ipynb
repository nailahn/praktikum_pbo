{
  "nbformat": 4,
  "nbformat_minor": 0,
  "metadata": {
    "colab": {
      "provenance": [],
      "authorship_tag": "ABX9TyMta7zI2Ed4KORJfotmUjvQ",
      "include_colab_link": true
    },
    "kernelspec": {
      "name": "python3",
      "display_name": "Python 3"
    },
    "language_info": {
      "name": "python"
    }
  },
  "cells": [
    {
      "cell_type": "markdown",
      "metadata": {
        "id": "view-in-github",
        "colab_type": "text"
      },
      "source": [
        "<a href=\"https://colab.research.google.com/github/nailahn/praktikum_pbo/blob/main/pewarisan2.ipynb\" target=\"_parent\"><img src=\"https://colab.research.google.com/assets/colab-badge.svg\" alt=\"Open In Colab\"/></a>"
      ]
    },
    {
      "cell_type": "code",
      "execution_count": 20,
      "metadata": {
        "colab": {
          "base_uri": "https://localhost:8080/"
        },
        "id": "-BaTBbQ7sSHg",
        "outputId": "f12725d8-2690-4a5b-bd59-91cc4c4d881e"
      },
      "outputs": [
        {
          "output_type": "stream",
          "name": "stdout",
          "text": [
            "car dict {'brand': 'Ford', 'model': 'Focus', 'year': 2008, 'number_of_doors': 5, 'number_of_wheels': 4}\n",
            "car details:\n",
            "Brand : Ford\n",
            "Model : Focus\n",
            "Year  : 2008\n",
            "Doors : 5\n",
            "Wheels: 4\n",
            "\n",
            "bike dict {'brand': 'Honda', 'model': 'Scoopy', 'year': 2018, 'number_of_wheels': 2}\n",
            "bike details:\n",
            "Brand : Honda\n",
            "Model : Scoopy\n",
            "Year  : 2018\n",
            "Wheels: 2\n",
            "vehicle is starting\n",
            "vehicle is starting\n"
          ]
        }
      ],
      "source": [
        "#make class Vehicle\n",
        "class Vehicle:\n",
        "\tdef __init__(self, brand, model, year):\n",
        "\t\tself.brand = brand\n",
        "\t\tself.model = model\n",
        "\t\tself.year = year\n",
        "\n",
        "#make methods\n",
        "\tdef start(self):\n",
        "\t\tprint(\"vehicle is starting\")\n",
        "\tdef stop(self):\n",
        "\t\tprint(\"vehicle is stopping\")\n",
        "\n",
        "#define sub class and make class Car (inheritance from Vehicle)\n",
        "# the super() to call method __init__() from class Vehicle\n",
        "\n",
        "class Car(Vehicle):\n",
        "\tdef __init__(self, brand, model, year, number_of_doors, number_of_wheels):\n",
        "\t\tsuper().__init__(brand, model, year)\n",
        "\t\tself.number_of_doors= number_of_doors\n",
        "\t\tself.number_of_wheels=number_of_wheels\n",
        "\n",
        "#make class Bike (inheritance from Vehicle)\n",
        "class Bike(Vehicle):\n",
        "\tdef __init__(self, brand, model, year, number_of_wheels):\n",
        "\t\tsuper().__init__(brand, model, year)\n",
        "\t\tself.number_of_wheels=number_of_wheels\n",
        "\n",
        "#make object\n",
        "car = Car(\"Ford\", \"Focus\", 2008, 5, 4)\n",
        "bike = Bike(\"Honda\", \"Scoopy\", 2018, 2)\n",
        "\n",
        "#print attribute dan method\n",
        "print(\"car dict\",car.__dict__)\n",
        "print(\"car details:\")\n",
        "print(f\"Brand : {car.brand}\")\n",
        "print(f\"Model : {car.model}\")\n",
        "print(f\"Year  : {car.year}\")\n",
        "print(f\"Doors : {car.number_of_doors}\")\n",
        "print(f\"Wheels: {car.number_of_wheels}\")\n",
        "\n",
        "print(\"\\nbike dict\",bike.__dict__)\n",
        "print(\"bike details:\")\n",
        "print(f\"Brand : {bike.brand}\")\n",
        "print(f\"Model : {bike.model}\")\n",
        "print(f\"Year  : {bike.year}\")\n",
        "print(f\"Wheels: {bike.number_of_wheels}\")\n",
        "\n",
        "car.start()\n",
        "bike.start()\n",
        "\n"
      ]
    }
  ]
}